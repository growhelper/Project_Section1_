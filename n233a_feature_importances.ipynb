{
  "nbformat": 4,
  "nbformat_minor": 0,
  "metadata": {
    "kernelspec": {
      "display_name": "Python 3",
      "language": "python",
      "name": "python3"
    },
    "language_info": {
      "codemirror_mode": {
        "name": "ipython",
        "version": 3
      },
      "file_extension": ".py",
      "mimetype": "text/x-python",
      "name": "python",
      "nbconvert_exporter": "python",
      "pygments_lexer": "ipython3",
      "version": "3.7.7"
    },
    "colab": {
      "name": "n233a_feature_importances.ipynb",
      "provenance": [],
      "include_colab_link": true
    }
  },
  "cells": [
    {
      "cell_type": "markdown",
      "metadata": {
        "id": "view-in-github",
        "colab_type": "text"
      },
      "source": [
        "<a href=\"https://colab.research.google.com/github/growhelper/Project_Section1_/blob/main/n233a_feature_importances.ipynb\" target=\"_parent\"><img src=\"https://colab.research.google.com/assets/colab-badge.svg\" alt=\"Open In Colab\"/></a>"
      ]
    },
    {
      "cell_type": "markdown",
      "metadata": {
        "id": "nCc3XZEyG3XV"
      },
      "source": [
        "<img align=\"right\" src=\"https://ds-cs-images.s3.ap-northeast-2.amazonaws.com/Codestates_Fulllogo_Color.png\" width=100>\n",
        "\n",
        "## *DATA SCIENCE / SECTION 2 / SPRINT 3 / NOTE 3*\n",
        "\n",
        "# 📝 Assignment\n",
        "---\n",
        "# Feature Importances"
      ]
    },
    {
      "cell_type": "markdown",
      "metadata": {
        "id": "_murjXHIU50F"
      },
      "source": [
        "### 1) 지속적으로 포트폴리오 프로젝트를 수행하세요\n",
        "- 지속적으로 데이터를 랭글링 하고 추가적인 시각화 결과를 만드세요\n",
        "- 작성한 코드마다 적절한 코멘트를 추가하세요\n",
        "- 모델을 학습시키고 베이스라인 모델과 비교해 보세요\n",
        "- **포트폴리오 프로젝트의 베이스라인 모델이 무엇인지 한 문장으로 설명하여 과제 제출폼에 제출하세요.** "
      ]
    },
    {
      "cell_type": "code",
      "metadata": {
        "id": "6bCNsvyqU50G"
      },
      "source": [
        "### 이곳에서 과제를 진행해 주세요 ### "
      ],
      "execution_count": 1,
      "outputs": []
    },
    {
      "cell_type": "code",
      "metadata": {
        "id": "dAIBvx8dU50G"
      },
      "source": [
        "### (제출폼 과제) 이곳에서 과제를 진행해 주세요 ###"
      ],
      "execution_count": 2,
      "outputs": []
    },
    {
      "cell_type": "markdown",
      "metadata": {
        "id": "H49OVeoUU50H"
      },
      "source": [
        "### 2) Xgboost를 사용해 학습하고 기존 모델과 비교해 보세요.\n",
        "- 본인 포트폴리오 데이터를 Xgboost로 학습하여 기존에 만들었던 모델과 비교합니다.\n",
        "- **breast cancer 데이터를 Xgboost로 학습하고 f1 score를 제출하세요.(test 데이터에서 0.95이상)**"
      ]
    },
    {
      "cell_type": "code",
      "metadata": {
        "id": "ItxEgzU0U50H"
      },
      "source": [
        "### (본인 포트폴리오 과제) 이곳에서 과제를 진행해 주세요 ### "
      ],
      "execution_count": 3,
      "outputs": []
    },
    {
      "cell_type": "code",
      "metadata": {
        "colab": {
          "base_uri": "https://localhost:8080/"
        },
        "id": "6lgxOp__U50H",
        "outputId": "1db06074-6bdb-437d-abc3-c2091ab77665"
      },
      "source": [
        "### (제출폼 과제) 이곳에서 과제를 진행해 주세요 ###\n",
        "\n",
        "import pandas as pd\n",
        "import numpy as np\n",
        "from sklearn.model_selection import train_test_split\n",
        "from sklearn.datasets import load_breast_cancer \n",
        "\n",
        "cancer_dataset = load_breast_cancer()\n",
        "\n",
        "features = cancer_dataset.data\n",
        "\n",
        "target = cancer_dataset.target\n",
        "\n",
        "df = pd.DataFrame(data=features, columns=cancer_dataset.feature_names)\n",
        "df['target'] = target\n",
        "features=df.drop('target',axis=1)  #향후 column 값 추출 위해 features 데이터프레임화\n",
        "\n",
        "X_train, X_test, y_train, y_test = train_test_split(features, target, test_size=0.2, random_state=2)\n",
        "print(X_train.shape, X_test.shape)"
      ],
      "execution_count": 1,
      "outputs": [
        {
          "output_type": "stream",
          "text": [
            "(455, 30) (114, 30)\n"
          ],
          "name": "stdout"
        }
      ]
    },
    {
      "cell_type": "code",
      "metadata": {
        "colab": {
          "base_uri": "https://localhost:8080/",
          "height": 255
        },
        "id": "4q-RBpa0fnW9",
        "outputId": "0d05a5df-4e6a-48e3-c2e5-a7e19c8896db"
      },
      "source": [
        "X_train.head() "
      ],
      "execution_count": 2,
      "outputs": [
        {
          "output_type": "execute_result",
          "data": {
            "text/html": [
              "<div>\n",
              "<style scoped>\n",
              "    .dataframe tbody tr th:only-of-type {\n",
              "        vertical-align: middle;\n",
              "    }\n",
              "\n",
              "    .dataframe tbody tr th {\n",
              "        vertical-align: top;\n",
              "    }\n",
              "\n",
              "    .dataframe thead th {\n",
              "        text-align: right;\n",
              "    }\n",
              "</style>\n",
              "<table border=\"1\" class=\"dataframe\">\n",
              "  <thead>\n",
              "    <tr style=\"text-align: right;\">\n",
              "      <th></th>\n",
              "      <th>mean radius</th>\n",
              "      <th>mean texture</th>\n",
              "      <th>mean perimeter</th>\n",
              "      <th>mean area</th>\n",
              "      <th>mean smoothness</th>\n",
              "      <th>mean compactness</th>\n",
              "      <th>mean concavity</th>\n",
              "      <th>mean concave points</th>\n",
              "      <th>mean symmetry</th>\n",
              "      <th>mean fractal dimension</th>\n",
              "      <th>radius error</th>\n",
              "      <th>texture error</th>\n",
              "      <th>perimeter error</th>\n",
              "      <th>area error</th>\n",
              "      <th>smoothness error</th>\n",
              "      <th>compactness error</th>\n",
              "      <th>concavity error</th>\n",
              "      <th>concave points error</th>\n",
              "      <th>symmetry error</th>\n",
              "      <th>fractal dimension error</th>\n",
              "      <th>worst radius</th>\n",
              "      <th>worst texture</th>\n",
              "      <th>worst perimeter</th>\n",
              "      <th>worst area</th>\n",
              "      <th>worst smoothness</th>\n",
              "      <th>worst compactness</th>\n",
              "      <th>worst concavity</th>\n",
              "      <th>worst concave points</th>\n",
              "      <th>worst symmetry</th>\n",
              "      <th>worst fractal dimension</th>\n",
              "    </tr>\n",
              "  </thead>\n",
              "  <tbody>\n",
              "    <tr>\n",
              "      <th>560</th>\n",
              "      <td>14.05</td>\n",
              "      <td>27.15</td>\n",
              "      <td>91.38</td>\n",
              "      <td>600.4</td>\n",
              "      <td>0.09929</td>\n",
              "      <td>0.11260</td>\n",
              "      <td>0.04462</td>\n",
              "      <td>0.04304</td>\n",
              "      <td>0.1537</td>\n",
              "      <td>0.06171</td>\n",
              "      <td>0.3645</td>\n",
              "      <td>1.4920</td>\n",
              "      <td>2.888</td>\n",
              "      <td>29.840</td>\n",
              "      <td>0.007256</td>\n",
              "      <td>0.026780</td>\n",
              "      <td>0.020710</td>\n",
              "      <td>0.016260</td>\n",
              "      <td>0.02080</td>\n",
              "      <td>0.005304</td>\n",
              "      <td>15.30</td>\n",
              "      <td>33.17</td>\n",
              "      <td>100.20</td>\n",
              "      <td>706.7</td>\n",
              "      <td>0.1241</td>\n",
              "      <td>0.22640</td>\n",
              "      <td>0.1326</td>\n",
              "      <td>0.10480</td>\n",
              "      <td>0.2250</td>\n",
              "      <td>0.08321</td>\n",
              "    </tr>\n",
              "    <tr>\n",
              "      <th>428</th>\n",
              "      <td>11.13</td>\n",
              "      <td>16.62</td>\n",
              "      <td>70.47</td>\n",
              "      <td>381.1</td>\n",
              "      <td>0.08151</td>\n",
              "      <td>0.03834</td>\n",
              "      <td>0.01369</td>\n",
              "      <td>0.01370</td>\n",
              "      <td>0.1511</td>\n",
              "      <td>0.06148</td>\n",
              "      <td>0.1415</td>\n",
              "      <td>0.9671</td>\n",
              "      <td>0.968</td>\n",
              "      <td>9.704</td>\n",
              "      <td>0.005883</td>\n",
              "      <td>0.006263</td>\n",
              "      <td>0.009398</td>\n",
              "      <td>0.006189</td>\n",
              "      <td>0.02009</td>\n",
              "      <td>0.002377</td>\n",
              "      <td>11.68</td>\n",
              "      <td>20.29</td>\n",
              "      <td>74.35</td>\n",
              "      <td>421.1</td>\n",
              "      <td>0.1030</td>\n",
              "      <td>0.06219</td>\n",
              "      <td>0.0458</td>\n",
              "      <td>0.04044</td>\n",
              "      <td>0.2383</td>\n",
              "      <td>0.07083</td>\n",
              "    </tr>\n",
              "    <tr>\n",
              "      <th>198</th>\n",
              "      <td>19.18</td>\n",
              "      <td>22.49</td>\n",
              "      <td>127.50</td>\n",
              "      <td>1148.0</td>\n",
              "      <td>0.08523</td>\n",
              "      <td>0.14280</td>\n",
              "      <td>0.11140</td>\n",
              "      <td>0.06772</td>\n",
              "      <td>0.1767</td>\n",
              "      <td>0.05529</td>\n",
              "      <td>0.4357</td>\n",
              "      <td>1.0730</td>\n",
              "      <td>3.833</td>\n",
              "      <td>54.220</td>\n",
              "      <td>0.005524</td>\n",
              "      <td>0.036980</td>\n",
              "      <td>0.027060</td>\n",
              "      <td>0.012210</td>\n",
              "      <td>0.01415</td>\n",
              "      <td>0.003397</td>\n",
              "      <td>23.36</td>\n",
              "      <td>32.06</td>\n",
              "      <td>166.40</td>\n",
              "      <td>1688.0</td>\n",
              "      <td>0.1322</td>\n",
              "      <td>0.56010</td>\n",
              "      <td>0.3865</td>\n",
              "      <td>0.17080</td>\n",
              "      <td>0.3193</td>\n",
              "      <td>0.09221</td>\n",
              "    </tr>\n",
              "    <tr>\n",
              "      <th>203</th>\n",
              "      <td>13.81</td>\n",
              "      <td>23.75</td>\n",
              "      <td>91.56</td>\n",
              "      <td>597.8</td>\n",
              "      <td>0.13230</td>\n",
              "      <td>0.17680</td>\n",
              "      <td>0.15580</td>\n",
              "      <td>0.09176</td>\n",
              "      <td>0.2251</td>\n",
              "      <td>0.07421</td>\n",
              "      <td>0.5648</td>\n",
              "      <td>1.9300</td>\n",
              "      <td>3.909</td>\n",
              "      <td>52.720</td>\n",
              "      <td>0.008824</td>\n",
              "      <td>0.031080</td>\n",
              "      <td>0.031120</td>\n",
              "      <td>0.012910</td>\n",
              "      <td>0.01998</td>\n",
              "      <td>0.004506</td>\n",
              "      <td>19.20</td>\n",
              "      <td>41.85</td>\n",
              "      <td>128.50</td>\n",
              "      <td>1153.0</td>\n",
              "      <td>0.2226</td>\n",
              "      <td>0.52090</td>\n",
              "      <td>0.4646</td>\n",
              "      <td>0.20130</td>\n",
              "      <td>0.4432</td>\n",
              "      <td>0.10860</td>\n",
              "    </tr>\n",
              "    <tr>\n",
              "      <th>41</th>\n",
              "      <td>10.95</td>\n",
              "      <td>21.35</td>\n",
              "      <td>71.90</td>\n",
              "      <td>371.1</td>\n",
              "      <td>0.12270</td>\n",
              "      <td>0.12180</td>\n",
              "      <td>0.10440</td>\n",
              "      <td>0.05669</td>\n",
              "      <td>0.1895</td>\n",
              "      <td>0.06870</td>\n",
              "      <td>0.2366</td>\n",
              "      <td>1.4280</td>\n",
              "      <td>1.822</td>\n",
              "      <td>16.970</td>\n",
              "      <td>0.008064</td>\n",
              "      <td>0.017640</td>\n",
              "      <td>0.025950</td>\n",
              "      <td>0.010370</td>\n",
              "      <td>0.01357</td>\n",
              "      <td>0.003040</td>\n",
              "      <td>12.84</td>\n",
              "      <td>35.34</td>\n",
              "      <td>87.22</td>\n",
              "      <td>514.0</td>\n",
              "      <td>0.1909</td>\n",
              "      <td>0.26980</td>\n",
              "      <td>0.4023</td>\n",
              "      <td>0.14240</td>\n",
              "      <td>0.2964</td>\n",
              "      <td>0.09606</td>\n",
              "    </tr>\n",
              "  </tbody>\n",
              "</table>\n",
              "</div>"
            ],
            "text/plain": [
              "     mean radius  mean texture  ...  worst symmetry  worst fractal dimension\n",
              "560        14.05         27.15  ...          0.2250                  0.08321\n",
              "428        11.13         16.62  ...          0.2383                  0.07083\n",
              "198        19.18         22.49  ...          0.3193                  0.09221\n",
              "203        13.81         23.75  ...          0.4432                  0.10860\n",
              "41         10.95         21.35  ...          0.2964                  0.09606\n",
              "\n",
              "[5 rows x 30 columns]"
            ]
          },
          "metadata": {},
          "execution_count": 2
        }
      ]
    },
    {
      "cell_type": "code",
      "metadata": {
        "colab": {
          "base_uri": "https://localhost:8080/"
        },
        "id": "OIDDp1dlfc9h",
        "outputId": "eca3f698-2b15-4c0f-8167-c92964bb08c4"
      },
      "source": [
        "df.columns[:-1]"
      ],
      "execution_count": 3,
      "outputs": [
        {
          "output_type": "execute_result",
          "data": {
            "text/plain": [
              "Index(['mean radius', 'mean texture', 'mean perimeter', 'mean area',\n",
              "       'mean smoothness', 'mean compactness', 'mean concavity',\n",
              "       'mean concave points', 'mean symmetry', 'mean fractal dimension',\n",
              "       'radius error', 'texture error', 'perimeter error', 'area error',\n",
              "       'smoothness error', 'compactness error', 'concavity error',\n",
              "       'concave points error', 'symmetry error', 'fractal dimension error',\n",
              "       'worst radius', 'worst texture', 'worst perimeter', 'worst area',\n",
              "       'worst smoothness', 'worst compactness', 'worst concavity',\n",
              "       'worst concave points', 'worst symmetry', 'worst fractal dimension'],\n",
              "      dtype='object')"
            ]
          },
          "metadata": {},
          "execution_count": 3
        }
      ]
    },
    {
      "cell_type": "code",
      "metadata": {
        "colab": {
          "base_uri": "https://localhost:8080/"
        },
        "id": "b9OPWEEMVhuB",
        "outputId": "b06623e2-b9df-420a-bdda-c2d4b9a19617"
      },
      "source": [
        "df.shape"
      ],
      "execution_count": 4,
      "outputs": [
        {
          "output_type": "execute_result",
          "data": {
            "text/plain": [
              "(569, 31)"
            ]
          },
          "metadata": {},
          "execution_count": 4
        }
      ]
    },
    {
      "cell_type": "code",
      "metadata": {
        "colab": {
          "base_uri": "https://localhost:8080/"
        },
        "id": "wu6KtXb4W3AM",
        "outputId": "46500697-70a3-49f1-e730-cd3120b7d7c4"
      },
      "source": [
        "pip install sklearn"
      ],
      "execution_count": 8,
      "outputs": [
        {
          "output_type": "stream",
          "text": [
            "Requirement already satisfied: sklearn in /usr/local/lib/python3.7/dist-packages (0.0)\n",
            "Requirement already satisfied: scikit-learn in /usr/local/lib/python3.7/dist-packages (from sklearn) (0.22.2.post1)\n",
            "Requirement already satisfied: scipy>=0.17.0 in /usr/local/lib/python3.7/dist-packages (from scikit-learn->sklearn) (1.4.1)\n",
            "Requirement already satisfied: numpy>=1.11.0 in /usr/local/lib/python3.7/dist-packages (from scikit-learn->sklearn) (1.19.5)\n",
            "Requirement already satisfied: joblib>=0.11 in /usr/local/lib/python3.7/dist-packages (from scikit-learn->sklearn) (1.0.1)\n"
          ],
          "name": "stdout"
        }
      ]
    },
    {
      "cell_type": "code",
      "metadata": {
        "colab": {
          "base_uri": "https://localhost:8080/"
        },
        "id": "uGchOt5XW5ms",
        "outputId": "2559ee36-0d8f-420c-e06c-62ac5bf943a0"
      },
      "source": [
        "pip install --upgrade category_encoders"
      ],
      "execution_count": 9,
      "outputs": [
        {
          "output_type": "stream",
          "text": [
            "Collecting category_encoders\n",
            "  Downloading category_encoders-2.2.2-py2.py3-none-any.whl (80 kB)\n",
            "\u001b[?25l\r\u001b[K     |████                            | 10 kB 22.3 MB/s eta 0:00:01\r\u001b[K     |████████▏                       | 20 kB 25.6 MB/s eta 0:00:01\r\u001b[K     |████████████▏                   | 30 kB 27.4 MB/s eta 0:00:01\r\u001b[K     |████████████████▎               | 40 kB 28.7 MB/s eta 0:00:01\r\u001b[K     |████████████████████▎           | 51 kB 30.9 MB/s eta 0:00:01\r\u001b[K     |████████████████████████▍       | 61 kB 32.7 MB/s eta 0:00:01\r\u001b[K     |████████████████████████████▍   | 71 kB 28.5 MB/s eta 0:00:01\r\u001b[K     |████████████████████████████████| 80 kB 7.9 MB/s \n",
            "\u001b[?25hRequirement already satisfied: scikit-learn>=0.20.0 in /usr/local/lib/python3.7/dist-packages (from category_encoders) (0.22.2.post1)\n",
            "Requirement already satisfied: patsy>=0.5.1 in /usr/local/lib/python3.7/dist-packages (from category_encoders) (0.5.1)\n",
            "Requirement already satisfied: numpy>=1.14.0 in /usr/local/lib/python3.7/dist-packages (from category_encoders) (1.19.5)\n",
            "Requirement already satisfied: pandas>=0.21.1 in /usr/local/lib/python3.7/dist-packages (from category_encoders) (1.1.5)\n",
            "Requirement already satisfied: statsmodels>=0.9.0 in /usr/local/lib/python3.7/dist-packages (from category_encoders) (0.10.2)\n",
            "Requirement already satisfied: scipy>=1.0.0 in /usr/local/lib/python3.7/dist-packages (from category_encoders) (1.4.1)\n",
            "Requirement already satisfied: pytz>=2017.2 in /usr/local/lib/python3.7/dist-packages (from pandas>=0.21.1->category_encoders) (2018.9)\n",
            "Requirement already satisfied: python-dateutil>=2.7.3 in /usr/local/lib/python3.7/dist-packages (from pandas>=0.21.1->category_encoders) (2.8.2)\n",
            "Requirement already satisfied: six in /usr/local/lib/python3.7/dist-packages (from patsy>=0.5.1->category_encoders) (1.15.0)\n",
            "Requirement already satisfied: joblib>=0.11 in /usr/local/lib/python3.7/dist-packages (from scikit-learn>=0.20.0->category_encoders) (1.0.1)\n",
            "Installing collected packages: category-encoders\n",
            "Successfully installed category-encoders-2.2.2\n"
          ],
          "name": "stdout"
        }
      ]
    },
    {
      "cell_type": "code",
      "metadata": {
        "id": "0V2l1x4vVnIM",
        "colab": {
          "base_uri": "https://localhost:8080/"
        },
        "outputId": "25dd459e-801a-48c5-deb0-8e3595c3f29c"
      },
      "source": [
        "#Xgboost로 학습\n",
        "from xgboost import XGBClassifier\n",
        "\n",
        "from category_encoders import OrdinalEncoder\n",
        "from sklearn.impute import SimpleImputer\n",
        "from sklearn.ensemble import RandomForestClassifier\n",
        "from sklearn.model_selection import train_test_split\n",
        "from sklearn.pipeline import make_pipeline\n",
        "from sklearn.pipeline import Pipeline\n",
        "\n",
        "pipe = make_pipeline(\n",
        "    OrdinalEncoder(),\n",
        "    SimpleImputer(strategy='median'),\n",
        "    XGBClassifier(n_estimators=200\n",
        "                  , random_state=2\n",
        "                  , n_jobs=-1\n",
        "                  , max_depth=7\n",
        "                  , learning_rate=0.2\n",
        "                 )\n",
        ")\n",
        "\n",
        "pipe.fit(X_train, y_train);"
      ],
      "execution_count": 5,
      "outputs": [
        {
          "output_type": "stream",
          "text": [
            "/usr/local/lib/python3.7/dist-packages/statsmodels/tools/_testing.py:19: FutureWarning: pandas.util.testing is deprecated. Use the functions in the public API at pandas.testing instead.\n",
            "  import pandas.util.testing as tm\n"
          ],
          "name": "stderr"
        }
      ]
    },
    {
      "cell_type": "code",
      "metadata": {
        "colab": {
          "base_uri": "https://localhost:8080/"
        },
        "id": "ViQ2zfTbWWHb",
        "outputId": "4b6261d8-b96f-4527-8730-4be60b00fa78"
      },
      "source": [
        "from sklearn.metrics import classification_report\n",
        "from sklearn.metrics import accuracy_score\n",
        "from sklearn.metrics import f1_score\n",
        "\n",
        "\n",
        "y_pred = pipe.predict(X_test)\n",
        "print('검증 정확도: ', accuracy_score(y_test, y_pred))\n",
        "print(classification_report(y_pred, y_test))\n",
        "print(\"\\n <f1 score> \\n \", f1_score(y_pred, y_test))"
      ],
      "execution_count": 7,
      "outputs": [
        {
          "output_type": "stream",
          "text": [
            "검증 정확도:  0.956140350877193\n",
            "              precision    recall  f1-score   support\n",
            "\n",
            "           0       0.96      0.93      0.95        46\n",
            "           1       0.96      0.97      0.96        68\n",
            "\n",
            "    accuracy                           0.96       114\n",
            "   macro avg       0.96      0.95      0.95       114\n",
            "weighted avg       0.96      0.96      0.96       114\n",
            "\n",
            "\n",
            " <f1 score> \n",
            "  0.9635036496350365\n"
          ],
          "name": "stdout"
        }
      ]
    },
    {
      "cell_type": "markdown",
      "metadata": {
        "id": "creP5WxCU50H"
      },
      "source": [
        "### 3) Permutation importances를 계산하고 다른 중요도 결과와 비교해 보세요\n",
        "- 본인 포트폴리오 데이터를 사용해 만든 모델의 Permutation importances를 계산하세요.\n",
        "- **breast cancer 데이터를 사용해 만든 모델의 Permutation importances를 계산하고 가장 높은 값을 가지는 특성의 이름을 과제 제출폼에 제출하세요.**\n",
        "    - eli5 PermutationImportance 사용\n",
        "    - scoring = 'accuracy'\n",
        "    - n_iter = 5\n",
        "    - random_state = 2"
      ]
    },
    {
      "cell_type": "code",
      "metadata": {
        "colab": {
          "base_uri": "https://localhost:8080/"
        },
        "id": "IxUtVQFSU50I",
        "outputId": "851b96cb-8fcf-4230-d12b-5f7650a3e75c"
      },
      "source": [
        "pip install eli5"
      ],
      "execution_count": 9,
      "outputs": [
        {
          "output_type": "stream",
          "text": [
            "Collecting eli5\n",
            "  Downloading eli5-0.11.0-py2.py3-none-any.whl (106 kB)\n",
            "\u001b[?25l\r\u001b[K     |███                             | 10 kB 21.3 MB/s eta 0:00:01\r\u001b[K     |██████▏                         | 20 kB 22.6 MB/s eta 0:00:01\r\u001b[K     |█████████▎                      | 30 kB 27.1 MB/s eta 0:00:01\r\u001b[K     |████████████▍                   | 40 kB 30.0 MB/s eta 0:00:01\r\u001b[K     |███████████████▌                | 51 kB 27.2 MB/s eta 0:00:01\r\u001b[K     |██████████████████▌             | 61 kB 28.8 MB/s eta 0:00:01\r\u001b[K     |█████████████████████▋          | 71 kB 22.7 MB/s eta 0:00:01\r\u001b[K     |████████████████████████▊       | 81 kB 23.9 MB/s eta 0:00:01\r\u001b[K     |███████████████████████████▉    | 92 kB 25.4 MB/s eta 0:00:01\r\u001b[K     |███████████████████████████████ | 102 kB 26.8 MB/s eta 0:00:01\r\u001b[K     |████████████████████████████████| 106 kB 26.8 MB/s \n",
            "\u001b[?25hRequirement already satisfied: scipy in /usr/local/lib/python3.7/dist-packages (from eli5) (1.4.1)\n",
            "Requirement already satisfied: scikit-learn>=0.20 in /usr/local/lib/python3.7/dist-packages (from eli5) (0.22.2.post1)\n",
            "Requirement already satisfied: tabulate>=0.7.7 in /usr/local/lib/python3.7/dist-packages (from eli5) (0.8.9)\n",
            "Requirement already satisfied: attrs>16.0.0 in /usr/local/lib/python3.7/dist-packages (from eli5) (21.2.0)\n",
            "Requirement already satisfied: numpy>=1.9.0 in /usr/local/lib/python3.7/dist-packages (from eli5) (1.19.5)\n",
            "Requirement already satisfied: jinja2 in /usr/local/lib/python3.7/dist-packages (from eli5) (2.11.3)\n",
            "Requirement already satisfied: six in /usr/local/lib/python3.7/dist-packages (from eli5) (1.15.0)\n",
            "Requirement already satisfied: graphviz in /usr/local/lib/python3.7/dist-packages (from eli5) (0.10.1)\n",
            "Requirement already satisfied: joblib>=0.11 in /usr/local/lib/python3.7/dist-packages (from scikit-learn>=0.20->eli5) (1.0.1)\n",
            "Requirement already satisfied: MarkupSafe>=0.23 in /usr/local/lib/python3.7/dist-packages (from jinja2->eli5) (2.0.1)\n",
            "Installing collected packages: eli5\n",
            "Successfully installed eli5-0.11.0\n"
          ],
          "name": "stdout"
        }
      ]
    },
    {
      "cell_type": "code",
      "metadata": {
        "id": "opChtHf8U50I",
        "colab": {
          "base_uri": "https://localhost:8080/"
        },
        "outputId": "e6f283a4-0052-4281-b30a-bd51d07bc799"
      },
      "source": [
        "### (제출폼 과제) 이곳에서 과제를 진행해 주세요 ###\n",
        "\n",
        "import eli5\n",
        "from eli5.sklearn import PermutationImportance\n",
        "\n",
        "\n",
        "# encoder, imputer를 preprocessing으로 묶었습니다. 후에 eli5 permutation 계산에 사용합니다\n",
        "pipe = Pipeline([\n",
        "    ('preprocessing', make_pipeline(OrdinalEncoder(), SimpleImputer(strategy='median'))),\n",
        "    ('Xgboost',    XGBClassifier(n_estimators=200\n",
        "                  , random_state=2\n",
        "                  , n_jobs=-1\n",
        "                  , max_depth=7\n",
        "                  , learning_rate=0.2\n",
        "                 )) \n",
        "])"
      ],
      "execution_count": 10,
      "outputs": [
        {
          "output_type": "stream",
          "text": [
            "/usr/local/lib/python3.7/dist-packages/sklearn/utils/deprecation.py:144: FutureWarning: The sklearn.feature_selection.base module is  deprecated in version 0.22 and will be removed in version 0.24. The corresponding classes / functions should instead be imported from sklearn.feature_selection. Anything that cannot be imported from sklearn.feature_selection is now part of the private API.\n",
            "  warnings.warn(message, FutureWarning)\n"
          ],
          "name": "stderr"
        }
      ]
    },
    {
      "cell_type": "code",
      "metadata": {
        "id": "wfFGGkG6Y1x4"
      },
      "source": [
        "# pipeline 생성을 확인합니다.\n",
        "pipe.named_steps"
      ],
      "execution_count": null,
      "outputs": []
    },
    {
      "cell_type": "code",
      "metadata": {
        "colab": {
          "base_uri": "https://localhost:8080/"
        },
        "id": "sFrAwd7SdvXv",
        "outputId": "3db1aca7-1474-452c-b3dc-f38695ce4fd3"
      },
      "source": [
        "pipe.fit(X_train, y_train)\n",
        "print('검증 정확도: ', pipe.score(X_test, y_test))"
      ],
      "execution_count": 12,
      "outputs": [
        {
          "output_type": "stream",
          "text": [
            "검증 정확도:  0.956140350877193\n"
          ],
          "name": "stdout"
        }
      ]
    },
    {
      "cell_type": "code",
      "metadata": {
        "id": "7fH_4qlsd0zi"
      },
      "source": [
        "import warnings\n",
        "warnings.simplefilter(action='ignore', category=FutureWarning)\n",
        "\n",
        "import eli5\n",
        "from eli5.sklearn import PermutationImportance\n",
        "\n",
        "# permuter 정의\n",
        "permuter = PermutationImportance(\n",
        "    pipe.named_steps['Xgboost'], # Xgboost model\n",
        "    scoring='accuracy', # metric\n",
        "    n_iter=5, # 다른 random seed를 사용하여 5번 반복\n",
        "    random_state=2\n",
        ")\n",
        "\n",
        "# permuter 계산은 preprocessing 된 X_test을 사용합니다.\n",
        "X_test_transformed = pipe.named_steps['preprocessing'].transform(X_test)\n",
        "\n",
        "# 실제로 fit 의미보다는 스코어를 다시 계산하는 작업입니다\n",
        "permuter.fit(X_test_transformed, y_test);"
      ],
      "execution_count": 13,
      "outputs": []
    },
    {
      "cell_type": "code",
      "metadata": {
        "colab": {
          "base_uri": "https://localhost:8080/"
        },
        "id": "xa-0vgv8d3dN",
        "outputId": "6c4ec6a1-fb84-470c-8d15-a35bd649d91f"
      },
      "source": [
        "\n",
        "feature_names = X_test.columns.tolist()\n",
        "pd.Series(permuter.feature_importances_, feature_names).sort_values()\n",
        "\n",
        "#가장 높은 값을 가지는 특성의 이름은 'mean smoothness'"
      ],
      "execution_count": 14,
      "outputs": [
        {
          "output_type": "execute_result",
          "data": {
            "text/plain": [
              "mean radius                0.000000\n",
              "worst compactness          0.000000\n",
              "concave points error       0.000000\n",
              "concavity error            0.000000\n",
              "mean fractal dimension     0.000000\n",
              "mean concavity             0.000000\n",
              "smoothness error           0.000000\n",
              "mean area                  0.000000\n",
              "mean perimeter             0.000000\n",
              "fractal dimension error    0.003509\n",
              "mean compactness           0.005263\n",
              "radius error               0.005263\n",
              "mean texture               0.005263\n",
              "worst concavity            0.008772\n",
              "worst fractal dimension    0.008772\n",
              "mean symmetry              0.010526\n",
              "worst radius               0.012281\n",
              "area error                 0.012281\n",
              "worst symmetry             0.012281\n",
              "symmetry error             0.014035\n",
              "perimeter error            0.015789\n",
              "worst concave points       0.015789\n",
              "worst area                 0.017544\n",
              "worst smoothness           0.017544\n",
              "texture error              0.017544\n",
              "worst perimeter            0.019298\n",
              "mean concave points        0.019298\n",
              "compactness error          0.021053\n",
              "worst texture              0.035088\n",
              "mean smoothness            0.035088\n",
              "dtype: float64"
            ]
          },
          "metadata": {},
          "execution_count": 14
        }
      ]
    },
    {
      "cell_type": "markdown",
      "metadata": {
        "id": "xxKVWmwsU50I"
      },
      "source": [
        "## 🔥 도전과제"
      ]
    },
    {
      "cell_type": "markdown",
      "metadata": {
        "id": "eVcddCinU50I"
      },
      "source": [
        "### 4) Xgboost 외에 다른 부스팅 라이브러리로 모델을 학습시켜 Xgboost와 비교해 보세요."
      ]
    },
    {
      "cell_type": "code",
      "metadata": {
        "id": "NRV7br6-U50I"
      },
      "source": [
        "### 이곳에서 과제를 진행해 주세요 ### "
      ],
      "execution_count": null,
      "outputs": []
    }
  ]
}